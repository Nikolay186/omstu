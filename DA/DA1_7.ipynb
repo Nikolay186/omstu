{
 "cells": [
  {
   "cell_type": "markdown",
   "id": "12c28e7c",
   "metadata": {},
   "source": [
    "# ПИН-192, Воробьев Н.Р, вариант 1"
   ]
  },
  {
   "cell_type": "markdown",
   "id": "32ba7871",
   "metadata": {},
   "source": [
    "## Лабораторная работа №1"
   ]
  },
  {
   "cell_type": "markdown",
   "id": "139dd15c",
   "metadata": {},
   "source": [
    "### Задание 1\n",
    ">Напишите программу, которая запрашивает у пользователя вещественное\n",
    "значение a и проверяет вхождение этого числа в диапазон [-5; 10]. Вывести на экран\n",
    "полученное булево значение (True или False).\n",
    "Код:"
   ]
  },
  {
   "cell_type": "code",
   "execution_count": 1,
   "id": "80b2aaca",
   "metadata": {},
   "outputs": [
    {
     "name": "stdout",
     "output_type": "stream",
     "text": [
      "Number: 56\n",
      "False\n"
     ]
    }
   ],
   "source": [
    "def check_interval():\n",
    "    inp = int(input(\"Number: \").strip())\n",
    "    print(inp > -5 and inp < 10)\n",
    "\n",
    "if __name__ == \"__main__\":\n",
    "    check_interval()"
   ]
  },
  {
   "cell_type": "markdown",
   "id": "d186e2d4",
   "metadata": {},
   "source": [
    "### Задание 2\n",
    ">Вводится натуральное число x. Определить, кратно ли оно четырем и\n",
    "оканчивается ли на цифру 8 (одновременно). Вывести на экран полученное булево\n",
    "значение (True или False).\n",
    "Код:"
   ]
  },
  {
   "cell_type": "code",
   "execution_count": 4,
   "id": "f11316e4",
   "metadata": {},
   "outputs": [
    {
     "name": "stdout",
     "output_type": "stream",
     "text": [
      "Number: 48\n",
      "True\n"
     ]
    }
   ],
   "source": [
    "def check():\n",
    "    inp = int(input(\"Number: \").strip())\n",
    "    print(inp % 4 == 0 and inp % 10 == 8)\n",
    "\n",
    "if __name__ == \"__main__\":\n",
    "    check()"
   ]
  },
  {
   "cell_type": "markdown",
   "id": "7f895c17",
   "metadata": {},
   "source": [
    "## Лабораторная работа №2"
   ]
  },
  {
   "cell_type": "markdown",
   "id": "68ca72de",
   "metadata": {},
   "source": [
    "### Задание 1\n",
    "> Вводится строка. Найти все индексы начала фрагмента «ра» во введенной\n",
    "строке. Результат вывести на экран.\n",
    "Код:"
   ]
  },
  {
   "cell_type": "code",
   "execution_count": 4,
   "id": "e252e089",
   "metadata": {},
   "outputs": [
    {
     "name": "stdout",
     "output_type": "stream",
     "text": [
      "String: papapapa\n",
      "[0, 2, 4, 6]\n"
     ]
    }
   ],
   "source": [
    "def get_indexes():\n",
    "    inp = input(\"String: \").strip()\n",
    "    indexes = [index for index in range(len(inp)) if inp.startswith(\"pa\", index)]\n",
    "    print(indexes)\n",
    "\n",
    "if __name__ == \"__main__\":\n",
    "    get_indexes()"
   ]
  },
  {
   "cell_type": "markdown",
   "id": "a8cfb11b",
   "metadata": {},
   "source": [
    "### Задание 2\n",
    "> Вводится список целых чисел в одну строчку через пробел. Необходимо\n",
    "представить его в виде списка целых чисел, а затем, вычислить сумму этих чисел и\n",
    "результат вывести на экран, используя форматирование.\n",
    "Код:"
   ]
  },
  {
   "cell_type": "code",
   "execution_count": 5,
   "id": "207597b7",
   "metadata": {},
   "outputs": [
    {
     "name": "stdout",
     "output_type": "stream",
     "text": [
      "String: 1 2 3 4 5 6\n",
      "[1, 2, 3, 4, 5, 6]\n",
      "Sum = 21\n"
     ]
    }
   ],
   "source": [
    "def numbers():\n",
    "    inp = input(\"String: \")\n",
    "    t = 0\n",
    "    numbers = [int(x) for x in inp.split(' ')]\n",
    "    print(numbers)\n",
    "    for num in numbers:\n",
    "        t += num\n",
    "    print(\"Sum =\", t)\n",
    "\n",
    "if __name__ == \"__main__\":\n",
    "    numbers()"
   ]
  },
  {
   "cell_type": "markdown",
   "id": "794b3102",
   "metadata": {},
   "source": [
    "## Лабораторная работа №3"
   ]
  },
  {
   "cell_type": "markdown",
   "id": "6fb0313c",
   "metadata": {},
   "source": [
    "### Задание 1\n",
    "> Вводятся вещественные числа в строку через пробел. Необходимо на их\n",
    "основе сформировать список с помощью list comprehension (генератора списков) из\n",
    "модулей введенных чисел (в списке должны храниться именно числа, а не строки).\n",
    "Результат вывести на экран\n",
    "Код:"
   ]
  },
  {
   "cell_type": "code",
   "execution_count": 6,
   "id": "092505c2",
   "metadata": {},
   "outputs": [
    {
     "name": "stdout",
     "output_type": "stream",
     "text": [
      "String: 1.2 0.413 123.123\n",
      "[1.2, 0.413, 123.123]\n"
     ]
    }
   ],
   "source": [
    "def numbers():\n",
    "    inp = input(\"String: \").strip()\n",
    "    t = 0\n",
    "    numbers = [abs(float(x)) for x in inp.split(' ')]\n",
    "    print(numbers)\n",
    "\n",
    "if __name__ == \"__main__\":\n",
    "    numbers()"
   ]
  },
  {
   "cell_type": "markdown",
   "id": "dcb997cc",
   "metadata": {},
   "source": [
    "### Задание 2\n",
    "> Задается двумерный (вложенный) список, представляющий таблицу целых\n",
    "чисел. Необходимо с помощью list comprehension преобразовать его в одномерный\n",
    "так, чтобы значения элементов шли в обратном порядке. Результат преобразования\n",
    "отобразить на экране\n",
    "Код:"
   ]
  },
  {
   "cell_type": "code",
   "execution_count": 7,
   "id": "82bca9d0",
   "metadata": {},
   "outputs": [
    {
     "name": "stdout",
     "output_type": "stream",
     "text": [
      "[9, 8, 7, 6, 5, 4, 3, 2, 1]\n"
     ]
    }
   ],
   "source": [
    "def inner_list():\n",
    "    source = [[1, 2, 3], [4, 5, 6], [7, 8, 9]]\n",
    "    new = [x for sub in reversed(source) for x in reversed(sub)]\n",
    "    print(new)\n",
    "\n",
    "\n",
    "if __name__ == \"__main__\":\n",
    "    inner_list()"
   ]
  },
  {
   "cell_type": "markdown",
   "id": "e26442d9",
   "metadata": {},
   "source": [
    "## Лабораторная работа №4"
   ]
  },
  {
   "cell_type": "markdown",
   "id": "8dd20498",
   "metadata": {},
   "source": [
    "### Задание 1\n",
    "> Вводится строка из русских букв. Необходимо ее закодировать, а затем,\n",
    "раскодировать азбукой Морзе. После каждой закодированной буквы должен стоять\n",
    "пробел (символ окончания кода буквы). После последнего кода пробела быть не\n",
    "должно (в конце строки). Словарь с кодами азбуки Морзе приведен после этой\n",
    "таблицы. Закодированную строку вывести на экран.\n",
    "Код:"
   ]
  },
  {
   "cell_type": "code",
   "execution_count": 8,
   "id": "b1471517",
   "metadata": {},
   "outputs": [
    {
     "name": "stdout",
     "output_type": "stream",
     "text": [
      "String: привет\n",
      ".--. .-. .. .-- . -\n",
      "\n",
      "привет\n",
      "\n"
     ]
    }
   ],
   "source": [
    "morze = {'а': '.-', 'б': '-...', 'в': '.--', 'г': '--.', 'д': '-..', 'е': '.', 'ё': '.', 'ж': '...-', 'з': '--..', 'и': '..', 'й':\n",
    "            '.---', 'к': '-.-', 'л': '.-..', 'м': '--', 'н': '-.', 'о': '---', 'п': '.--.', 'р': '.-.', 'с': '...', 'т': '-', 'у': '..-', 'ф': '..-.', \n",
    "            'х': '....', 'ц': '-.-.', 'ч': '---.', 'ш': '----', 'щ': '--.-', 'ъ': '--.--', 'ы': '-.--', 'ь': '-..-', 'э': '..-..', 'ю': '..--', 'я': '.-.-', ' ': '-···-'}\n",
    "\n",
    "def encode():\n",
    "    inp = input(\"String: \").strip()\n",
    "    first = True\n",
    "    encoded = [morze.get(c) for c in inp]\n",
    "\n",
    "    for c in encoded:\n",
    "        if not first:\n",
    "            print(\" \", end='')\n",
    "        print(*c, sep='', end='')\n",
    "        first = False\n",
    "    decode(encoded)\n",
    "\n",
    "def decode(inp):\n",
    "    decoded = [get_key(c) for c in inp]\n",
    "    first = True\n",
    "    \n",
    "    for c in decoded:\n",
    "        if first:\n",
    "            print('\\n')\n",
    "\n",
    "        print(c, sep='', end='')\n",
    "        first = False\n",
    "    print('\\n')\n",
    "\n",
    "def get_key(value):\n",
    "    for k, v in morze.items():\n",
    "        if v == value:\n",
    "            return k\n",
    "\n",
    "if __name__ == \"__main__\":\n",
    "    encode()"
   ]
  },
  {
   "cell_type": "markdown",
   "id": "53986089",
   "metadata": {},
   "source": [
    "### Задание 2\n",
    "> Дан текст из строчных латинских букв, за которым следует точка.\n",
    "Напечатать: первые вхождения букв в текст, сохраняя их взаимный исходный\n",
    "порядок; все буквы, входящие в текст не менее двух раз; все буквы, входящие в\n",
    "текст по одному разу.\n",
    "Код:"
   ]
  },
  {
   "cell_type": "code",
   "execution_count": 9,
   "id": "bbd2e976",
   "metadata": {},
   "outputs": [
    {
     "name": "stdout",
     "output_type": "stream",
     "text": [
      "Text: test text.\n",
      "t e s x\n",
      "t\n",
      "s x\n"
     ]
    }
   ],
   "source": [
    "def prepare(str):\n",
    "    symbols = [',', ' ']\n",
    "    for s in symbols:\n",
    "        str = str.replace(s, \"\")\n",
    "    analyze(str.lower())\n",
    "    \n",
    "def analyze(text):\n",
    "    # get all letters entries\n",
    "    letters_entries = []\n",
    "    for i in range(len(text)):\n",
    "        if text[i] == '.':\n",
    "            break\n",
    "        if text[i] not in letters_entries:\n",
    "            letters_entries.append(text[i])\n",
    "    print(*letters_entries)\n",
    "\n",
    "    # get all letters with more than two entries\n",
    "    repeating_letters = []\n",
    "    for i in range(len(text)):\n",
    "        if text[i] == '.':\n",
    "            break\n",
    "        letter = text[i]\n",
    "        count = 0\n",
    "        for j in range(len(text)):\n",
    "            if text[j] == letter:\n",
    "                count += 1\n",
    "        if count > 2 and letter not in repeating_letters:\n",
    "            repeating_letters.append(letter)\n",
    "    print(*repeating_letters)\n",
    "\n",
    "    # get unique letters\n",
    "    unique_letters = []\n",
    "    for i in range(len(text)):\n",
    "        if text[i] == '.':\n",
    "            break\n",
    "        letter = text[i]\n",
    "        count = 0\n",
    "        for j in range(len(text)):\n",
    "            if text[j] == letter:\n",
    "                count += 1\n",
    "        if count < 2 and letter not in unique_letters:\n",
    "            unique_letters.append(letter)\n",
    "    print(*unique_letters)\n",
    "\n",
    "if __name__ == \"__main__\":\n",
    "    prepare(input(\"Text: \"))"
   ]
  },
  {
   "cell_type": "markdown",
   "id": "607616b3",
   "metadata": {},
   "source": [
    "## Лабораторная работа №5"
   ]
  },
  {
   "cell_type": "markdown",
   "id": "15b26b7f",
   "metadata": {},
   "source": [
    "### Задание 1\n",
    "> Напишите код, обеспечивающий построение линейного графика функции."
   ]
  },
  {
   "cell_type": "code",
   "execution_count": 1,
   "id": "77baca03",
   "metadata": {},
   "outputs": [
    {
     "data": {
      "image/png": "[encoded data removed]",
      "text/plain": [
       "<Figure size 432x288 with 1 Axes>"
      ]
     },
     "metadata": {
      "needs_background": "light"
     },
     "output_type": "display_data"
    }
   ],
   "source": [
    "def paint():\n",
    "    xpts = np.array([0, 160])\n",
    "    ypts = np.array([0, 50])\n",
    "\n",
    "    mpl.plot(xpts, ypts)\n",
    "    mpl.show()\n",
    "\n",
    "if __name__ == \"__main__\":\n",
    "    import numpy as np\n",
    "    import matplotlib.pyplot as mpl\n",
    "    paint()"
   ]
  },
  {
   "cell_type": "markdown",
   "id": "ed713100",
   "metadata": {},
   "source": [
    "## Лабораторная работа №6"
   ]
  },
  {
   "cell_type": "markdown",
   "id": "28d4058e",
   "metadata": {},
   "source": [
    "### Задание\n",
    "> 1. Импортируйте необходимые библиотеки"
   ]
  },
  {
   "cell_type": "code",
   "execution_count": 2,
   "id": "274647a0",
   "metadata": {},
   "outputs": [],
   "source": [
    "import pandas as pd\n",
    "import numpy as np"
   ]
  },
  {
   "cell_type": "markdown",
   "id": "77b36aa8",
   "metadata": {},
   "source": [
    "> 2. Импортируйте набор данных из файла alco.csv и поместите его в объект DataFrame\n",
    "> 3. Выведите на экран этот датафрейм"
   ]
  },
  {
   "cell_type": "code",
   "execution_count": 3,
   "id": "2ac1241d",
   "metadata": {},
   "outputs": [
    {
     "name": "stdout",
     "output_type": "stream",
     "text": [
      "         country  beer_servings  spirit_servings  wine_servings  \\\n",
      "0    Afghanistan              0                0              0   \n",
      "1        Albania             89              132             54   \n",
      "2        Algeria             25                0             14   \n",
      "3        Andorra            245              138            312   \n",
      "4         Angola            217               57             45   \n",
      "..           ...            ...              ...            ...   \n",
      "188    Venezuela            333              100              3   \n",
      "189      Vietnam            111                2              1   \n",
      "190        Yemen              6                0              0   \n",
      "191       Zambia             32               19              4   \n",
      "192     Zimbabwe             64               18              4   \n",
      "\n",
      "     total_litres_of_pure_alcohol continent  \n",
      "0                             0.0        AS  \n",
      "1                             4.9        EU  \n",
      "2                             0.7        AF  \n",
      "3                            12.4        EU  \n",
      "4                             5.9        AF  \n",
      "..                            ...       ...  \n",
      "188                           7.7        SA  \n",
      "189                           2.0        AS  \n",
      "190                           0.1        AS  \n",
      "191                           2.5        AF  \n",
      "192                           4.7        AF  \n",
      "\n",
      "[193 rows x 6 columns]\n"
     ]
    }
   ],
   "source": [
    "df = pd.read_csv('alco.csv')\n",
    "print(df)"
   ]
  },
  {
   "cell_type": "markdown",
   "id": "0f2fb263",
   "metadata": {},
   "source": [
    "> 4. Выведите названия всех столбцов"
   ]
  },
  {
   "cell_type": "code",
   "execution_count": 19,
   "id": "29f4cf9b",
   "metadata": {},
   "outputs": [
    {
     "name": "stdout",
     "output_type": "stream",
     "text": [
      "country beer_servings spirit_servings wine_servings total_litres_of_pure_alcohol continent\n"
     ]
    }
   ],
   "source": [
    "def get_columns():\n",
    "    print(*df.columns.values)\n",
    "    \n",
    "get_columns()"
   ]
  },
  {
   "cell_type": "markdown",
   "id": "89d4da29",
   "metadata": {},
   "source": [
    "> 5. Как индексируется набор данных?"
   ]
  },
  {
   "cell_type": "code",
   "execution_count": 18,
   "id": "4a4bf7a8",
   "metadata": {},
   "outputs": [
    {
     "name": "stdout",
     "output_type": "stream",
     "text": [
      "LOC indexing: \n",
      "       country  beer_servings  spirit_servings  wine_servings  \\\n",
      "0  Afghanistan              0                0              0   \n",
      "\n",
      "   total_litres_of_pure_alcohol continent  \n",
      "0                           0.0        AS         country  beer_servings  spirit_servings  wine_servings  \\\n",
      "6    Argentina            193               25            221   \n",
      "7      Armenia             21              179             11   \n",
      "8    Australia            261               72            212   \n",
      "9      Austria            279               75            191   \n",
      "10  Azerbaijan             21               46              5   \n",
      "\n",
      "    total_litres_of_pure_alcohol continent  \n",
      "6                            8.3        SA  \n",
      "7                            3.8        EU  \n",
      "8                           10.4        OC  \n",
      "9                            9.7        EU  \n",
      "10                           1.3        EU  \n",
      "\n",
      "ILOC indexing: \n",
      "   country  beer_servings  spirit_servings  wine_servings  \\\n",
      "1  Albania             89              132             54   \n",
      "\n",
      "   total_litres_of_pure_alcohol continent  \n",
      "1                           4.9        EU       country  beer_servings  spirit_servings  wine_servings  \\\n",
      "6  Argentina            193               25            221   \n",
      "7    Armenia             21              179             11   \n",
      "8  Australia            261               72            212   \n",
      "9    Austria            279               75            191   \n",
      "\n",
      "   total_litres_of_pure_alcohol continent  \n",
      "6                           8.3        SA  \n",
      "7                           3.8        EU  \n",
      "8                          10.4        OC  \n",
      "9                           9.7        EU  \n"
     ]
    }
   ],
   "source": [
    "def get_indexes():\n",
    "    print(\"LOC indexing: \")\n",
    "    print(str(df.loc[[0]]) + str(df.loc[6:10]))\n",
    "    print()\n",
    "    print(\"ILOC indexing: \")\n",
    "    print(str(df.iloc[[1]]) + str(df.iloc[6:10]))\n",
    "    \n",
    "get_indexes()"
   ]
  },
  {
   "cell_type": "markdown",
   "id": "0757016f",
   "metadata": {},
   "source": [
    "> 6. На каком континенте в среднем потребляется больше всего пива?"
   ]
  },
  {
   "cell_type": "code",
   "execution_count": 28,
   "id": "9891192b",
   "metadata": {},
   "outputs": [
    {
     "name": "stdout",
     "output_type": "stream",
     "text": [
      "Average beer consumption: 193.78 in OC\n"
     ]
    }
   ],
   "source": [
    "cont = []\n",
    "def get_continents():\n",
    "    for c in df.loc[:, \"continent\"]:\n",
    "        if c not in cont:\n",
    "            cont.append(c)\n",
    "\n",
    "def average_beer_consumption():\n",
    "    m = 0\n",
    "    for c in cont:\n",
    "        (m, con) = (max(df.query('continent == @c').beer_servings.mean(), m), c)\n",
    "    print(\"Average beer consumption: \" + str(np.around(m, decimals=2)) + \" in \" + c)\n",
    "\n",
    "get_continents()\n",
    "average_beer_consumption()"
   ]
  },
  {
   "cell_type": "markdown",
   "id": "d38f14bd",
   "metadata": {},
   "source": [
    "> 7. Напечатайте статистику потребления вина (wine_servings) для каждого континента"
   ]
  },
  {
   "cell_type": "code",
   "execution_count": 22,
   "id": "98dd5c46",
   "metadata": {},
   "outputs": [
    {
     "name": "stdout",
     "output_type": "stream",
     "text": [
      "Wine consumption in AS: 399\n",
      "Wine consumption in EU: 6400\n",
      "Wine consumption in AF: 862\n",
      "Wine consumption in NAT: 564\n",
      "Wine consumption in SA: 749\n",
      "Wine consumption in OC: 570\n"
     ]
    }
   ],
   "source": [
    "def wine_consumption_stats():\n",
    "    for c in cont:\n",
    "        print(\"Wine consumption in \" + c + \": \" + str(df.query('continent == @c')['wine_servings'].sum()))\n",
    "        \n",
    "wine_consumption_stats()"
   ]
  },
  {
   "cell_type": "markdown",
   "id": "307053c2",
   "metadata": {},
   "source": [
    "> 8. Напечатайте среднее потребление каждой категории вин на каждом континенте"
   ]
  },
  {
   "cell_type": "code",
   "execution_count": 23,
   "id": "3ef87b31",
   "metadata": {},
   "outputs": [
    {
     "name": "stdout",
     "output_type": "stream",
     "text": [
      "Average consumptions: \n",
      "beer_servings in AS: 37.05\n",
      "spirit_servings in AS: 60.84\n",
      "wine_servings in AS: 9.07\n",
      "beer_servings in EU: 193.78\n",
      "spirit_servings in EU: 132.56\n",
      "wine_servings in EU: 142.22\n",
      "beer_servings in AF: 61.47\n",
      "spirit_servings in AF: 16.34\n",
      "wine_servings in AF: 16.26\n",
      "beer_servings in NAT: 145.43\n",
      "spirit_servings in NAT: 165.74\n",
      "wine_servings in NAT: 24.52\n",
      "beer_servings in SA: 175.08\n",
      "spirit_servings in SA: 114.75\n",
      "wine_servings in SA: 62.42\n",
      "beer_servings in OC: 89.69\n",
      "spirit_servings in OC: 58.44\n",
      "wine_servings in OC: 35.62\n"
     ]
    }
   ],
   "source": [
    "def category_consumption_avg():\n",
    "        alc = ['beer_servings', 'spirit_servings', 'wine_servings']\n",
    "        print(\"Average consumptions: \")\n",
    "        for c in cont:\n",
    "            for a in alc:\n",
    "                print(a + \" in \" + c + \": \" + str(np.around(df.query('continent == @c')[a].mean(), decimals=2)))\n",
    "                \n",
    "category_consumption_avg()"
   ]
  },
  {
   "cell_type": "markdown",
   "id": "e0a35b03",
   "metadata": {},
   "source": [
    "> 9. Напечатайте медианное потребление каждой категории вин на каждом континенте"
   ]
  },
  {
   "cell_type": "code",
   "execution_count": 24,
   "id": "a93581cb",
   "metadata": {},
   "outputs": [
    {
     "name": "stdout",
     "output_type": "stream",
     "text": [
      "Median consumptions: \n",
      "beer_servings in AS: 17.5\n",
      "spirit_servings in AS: 16.0\n",
      "wine_servings in AS: 1.0\n",
      "beer_servings in EU: 219.0\n",
      "spirit_servings in EU: 122.0\n",
      "wine_servings in EU: 128.0\n",
      "beer_servings in AF: 32.0\n",
      "spirit_servings in AF: 3.0\n",
      "wine_servings in AF: 2.0\n",
      "beer_servings in NAT: 143.0\n",
      "spirit_servings in NAT: 137.0\n",
      "wine_servings in NAT: 11.0\n",
      "beer_servings in SA: 162.5\n",
      "spirit_servings in SA: 108.5\n",
      "wine_servings in SA: 12.0\n",
      "beer_servings in OC: 52.5\n",
      "spirit_servings in OC: 37.0\n",
      "wine_servings in OC: 8.5\n"
     ]
    }
   ],
   "source": [
    "def category_consumption_median():\n",
    "    alc = ['beer_servings', 'spirit_servings', 'wine_servings']\n",
    "    print(\"Median consumptions: \")\n",
    "    for c in cont:\n",
    "        for a in alc:\n",
    "            print(a + \" in \" + c + \": \" + str(np.around(df.query('continent == @c')[a].median(), decimals=2)))\n",
    "\n",
    "category_consumption_median()"
   ]
  },
  {
   "cell_type": "markdown",
   "id": "d90f39bc",
   "metadata": {},
   "source": [
    "> 10. Напечатайте среднее, максимальное и минимальное потребление спиртных напитков для каждого континента"
   ]
  },
  {
   "cell_type": "code",
   "execution_count": 25,
   "id": "6fffb43c",
   "metadata": {},
   "outputs": [
    {
     "name": "stdout",
     "output_type": "stream",
     "text": [
      "Max, median and min for each continent: \n",
      "Max in AS: 11.5\n",
      "Median in AS: 1.2\n",
      "Min in AS: 0.0\n",
      "Max in EU: 14.4\n",
      "Median in EU: 10.0\n",
      "Min in EU: 0.0\n",
      "Max in AF: 9.1\n",
      "Median in AF: 2.3\n",
      "Min in AF: 0.0\n",
      "Max in NAT: 11.9\n",
      "Median in NAT: 6.3\n",
      "Min in NAT: 2.2\n",
      "Max in SA: 8.3\n",
      "Median in SA: 6.85\n",
      "Min in SA: 3.8\n",
      "Max in OC: 10.4\n",
      "Median in OC: 1.75\n",
      "Min in OC: 0.0\n"
     ]
    }
   ],
   "source": [
    "def spirt_stats():\n",
    "    print(\"Max, median and min for each continent: \")\n",
    "    for c in cont:\n",
    "        print(\"Max in \" + c + \": \" + str(np.around(df.query('continent == @c')['total_litres_of_pure_alcohol'].max(), decimals=2)))\n",
    "        print(\"Median in \" + c + \": \" + str(np.around(df.query('continent == @c')['total_litres_of_pure_alcohol'].median(), decimals=2)))\n",
    "        print(\"Min in \" + c + \": \" + str(np.around(df.query('continent == @c')['total_litres_of_pure_alcohol'].min(), decimals=2)))\n",
    "        \n",
    "spirt_stats()"
   ]
  },
  {
   "cell_type": "markdown",
   "id": "30554e27",
   "metadata": {},
   "source": [
    "> 11. Какая страна в среднем потребляет больше всего спирта?"
   ]
  },
  {
   "cell_type": "code",
   "execution_count": 26,
   "id": "fd28c074",
   "metadata": {},
   "outputs": [
    {
     "name": "stdout",
     "output_type": "stream",
     "text": [
      "Max alcohol consumption: \n",
      "    country  beer_servings  spirit_servings  wine_servings  \\\n",
      "68  Grenada            199              438             28   \n",
      "\n",
      "    total_litres_of_pure_alcohol continent  \n",
      "68                          11.9       NAT  \n"
     ]
    }
   ],
   "source": [
    "def max_avg_country():\n",
    "    print(\"Max alcohol consumption: \")\n",
    "    max = df.spirit_servings.max()\n",
    "    print(df.query('spirit_servings == @max'))\n",
    "\n",
    "max_avg_country()"
   ]
  },
  {
   "cell_type": "markdown",
   "id": "03454be3",
   "metadata": {},
   "source": [
    "> 12. Выведите на экран список «безалкогольных» стран"
   ]
  },
  {
   "cell_type": "code",
   "execution_count": 27,
   "id": "9b86d977",
   "metadata": {},
   "outputs": [
    {
     "name": "stdout",
     "output_type": "stream",
     "text": [
      "No alcohol countries: \n",
      "              country  beer_servings  spirit_servings  wine_servings  \\\n",
      "0         Afghanistan              0                0              0   \n",
      "13         Bangladesh              0                0              0   \n",
      "46        North Korea              0                0              0   \n",
      "79               Iran              0                0              0   \n",
      "90             Kuwait              0                0              0   \n",
      "97              Libya              0                0              0   \n",
      "103          Maldives              0                0              0   \n",
      "106  Marshall Islands              0                0              0   \n",
      "107        Mauritania              0                0              0   \n",
      "111            Monaco              0                0              0   \n",
      "128          Pakistan              0                0              0   \n",
      "147        San Marino              0                0              0   \n",
      "158           Somalia              0                0              0   \n",
      "\n",
      "     total_litres_of_pure_alcohol continent  \n",
      "0                             0.0        AS  \n",
      "13                            0.0        AS  \n",
      "46                            0.0        AS  \n",
      "79                            0.0        AS  \n",
      "90                            0.0        AS  \n",
      "97                            0.0        AF  \n",
      "103                           0.0        AS  \n",
      "106                           0.0        OC  \n",
      "107                           0.0        AF  \n",
      "111                           0.0        EU  \n",
      "128                           0.0        AS  \n",
      "147                           0.0        EU  \n",
      "158                           0.0        AF  \n"
     ]
    }
   ],
   "source": [
    "def no_alcohol_countries():\n",
    "    print(\"No alcohol countries: \")\n",
    "    print(df.query('total_litres_of_pure_alcohol == 0'))\n",
    "    \n",
    "no_alcohol_countries()"
   ]
  },
  {
   "cell_type": "markdown",
   "id": "95600270",
   "metadata": {},
   "source": [
    "## Лабораторная работа №7"
   ]
  },
  {
   "cell_type": "markdown",
   "id": "1e6bd573",
   "metadata": {},
   "source": [
    "Задание:\n",
    "> 1. Разбейте расходы (отрицательные значения сумм) на 5 бакетов\n",
    "amount_bucket равного объема (с помощью pd.qcut), разбив все траты на категории\n",
    "'Very High', 'High', 'Middle', 'Low', 'Very Low'. (*)\n",
    "\n",
    "> 2. Оставшиеся неотрицательные траты отнесите к категории 'Income'.\n",
    "(воспользуйтесь функцией .cat.add_categories('Income') для того, чтобы добавить\n",
    "новую категорию 'Income' к категориям 'Very High', 'High', 'Middle', 'Low', 'Very\n",
    "Low', а затем заполните пустые значения новой категорией).\n",
    "\n",
    "> 3. Из поля tr_datetime выделите час tr_hour, в который произошла транзакция,\n",
    "как первые 2 цифры до \":\". (**)\n",
    "\n",
    "> 4. После этого постройте сводную таблицу, значениями в которой является\n",
    "пол gender, индексы – tr_hour, столбцы – amount_bucket.\n",
    "\n",
    "> 5. Отрисуйте полученные результаты, передав их в функцию plot_pivot_table,\n",
    "расположенную ниже.\n",
    "\n",
    "> 6. Выберите верные ответы на вопросы ниже.\n",
    "Вопросы:\n",
    "\n",
    "> 1) Ночные поступления денег (01-05 часов) в более чем 85% случаев являются\n",
    "мужскими.\n",
    "\n",
    "> 2) Посмотрев на долю мужчин в поступлениях средств (Income), можно\n",
    "сделать вывод, что количество поступлений средств женщинам в целом больше,\n",
    "чем мужчинам.\n",
    "\n",
    "> 3) Самые низкие траты в 3 часа ночи осуществляются в более 70% случаев\n",
    "женщинами.\n",
    "\n",
    "> 4) Существуют особые часы в мелких тратах, когда женщины тратят намного\n",
    "больше мужчин (>80%)\n",
    "\n",
    "> 5) Посмотрев на долю мужчин в максимальных тратах средств (Very High),\n",
    "можно сделать вывод, что количество высоких трат в каждый возможный час\n",
    "мужчин больше, чем у женщин."
   ]
  },
  {
   "cell_type": "code",
   "execution_count": 2,
   "id": "1d500033",
   "metadata": {},
   "outputs": [
    {
     "data": {
      "image/png": "[encoded data removed]",
      "text/plain": [
       "<Figure size 648x792 with 2 Axes>"
      ]
     },
     "metadata": {
      "needs_background": "light"
     },
     "output_type": "display_data"
    }
   ],
   "source": [
    "import pandas as pd\n",
    "from pandas.core.frame import DataFrame\n",
    "import matplotlib.pyplot as plt\n",
    "import seaborn as sns\n",
    "\n",
    "def analyze():\n",
    "    # read data\n",
    "    gender_tr = pd.read_csv(\"gender_train.csv\")\n",
    "    mcc_codes = pd.read_csv(\"tr_mcc_codes.csv\", \";\")\n",
    "    tr_types = pd.read_csv(\"tr_types.csv\", \";\")\n",
    "    tr = pd.read_csv(\"transactions.csv\", nrows=1000000)\n",
    "\n",
    "    # merge tables\n",
    "    transactions = pd.merge(tr, gender_tr, how=\"left\")\n",
    "    transactions = pd.merge(transactions, mcc_codes, how=\"inner\")\n",
    "    transactions = pd.merge(transactions, tr_types, how=\"inner\")\n",
    "\n",
    "    # delete unnecessary variables\n",
    "    del gender_tr\n",
    "    del mcc_codes\n",
    "    del tr_types\n",
    "    del tr\n",
    "\n",
    "    # get hours\n",
    "    transactions['tr_hour'] = [int(s[1][:2]) for s in transactions['tr_datetime'].str.split(' ')]\n",
    "    # make buckets\n",
    "    transactions['amount_backet'] = pd.qcut(transactions[transactions.amount < 0].amount, 5, labels=['Very High', 'High', 'Middle', 'Low', 'Very Low'])\n",
    "    transactions['amount_backet'] = transactions['amount_backet'].cat.add_categories('Income').fillna('Income')\n",
    "    # plot table\n",
    "    plot_pivot_table(transactions.pivot_table(index='tr_hour', columns='amount_backet', values='gender'))\n",
    "\n",
    "\n",
    "def plot_pivot_table(pivot_table):\n",
    "    plt.figure(figsize=(9, 11))\n",
    "    sns.heatmap(pivot_table, cmap=\"YlGnBu\", annot=True,\n",
    "                fmt='.3g')\n",
    "    plt.xticks(fontsize=15)\n",
    "    plt.yticks(rotation=0, fontsize=15)\n",
    "    plt.xlabel('Bucket', size=18)\n",
    "    plt.ylabel('Hour', fontsize=18)\n",
    "    plt.title('Gender analysis per bucket and hour', fontsize=20)\n",
    "    plt.show()\n",
    "\n",
    "analyze()"
   ]
  },
  {
   "cell_type": "markdown",
   "id": "50a1fe9a",
   "metadata": {},
   "source": [
    "## Ответы:\n",
    "> Возьмем за 1 мужчин, за 0 - женщин.\n",
    "\n",
    "> 1. Да\n",
    "> 2. Нет\n",
    "> 3. Да\n",
    "> 4. Нет\n",
    "> 5. Да"
   ]
  },
  {
   "cell_type": "code",
   "execution_count": null,
   "id": "bb497c55",
   "metadata": {},
   "outputs": [],
   "source": []
  }
 ],
 "metadata": {
  "kernelspec": {
   "display_name": "Python 3",
   "language": "python",
   "name": "python3"
  },
  "language_info": {
   "codemirror_mode": {
    "name": "ipython",
    "version": 3
   },
   "file_extension": ".py",
   "mimetype": "text/x-python",
   "name": "python",
   "nbconvert_exporter": "python",
   "pygments_lexer": "ipython3",
   "version": "3.8.8"
  }
 },
 "nbformat": 4,
 "nbformat_minor": 5
}
