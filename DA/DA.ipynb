{
 "cells": [
  {
   "cell_type": "markdown",
   "id": "32ba7871",
   "metadata": {},
   "source": [
    "## Лабораторная работа №1"
   ]
  },
  {
   "cell_type": "markdown",
   "id": "139dd15c",
   "metadata": {},
   "source": [
    "### Задание 1\n",
    ">Напишите программу, которая запрашивает у пользователя вещественное\n",
    "значение a и проверяет вхождение этого числа в диапазон [-5; 10]. Вывести на экран\n",
    "полученное булево значение (True или False).\n",
    "Код:"
   ]
  },
  {
   "cell_type": "code",
   "execution_count": 2,
   "id": "80b2aaca",
   "metadata": {},
   "outputs": [
    {
     "name": "stdout",
     "output_type": "stream",
     "text": [
      "Number: 5\n",
      "True\n"
     ]
    }
   ],
   "source": [
    "def check_interval():\n",
    "    inp = int(input(\"Number: \").strip())\n",
    "    print(inp > -5 and inp < 10)\n",
    "\n",
    "if __name__ == \"__main__\":\n",
    "    check_interval()"
   ]
  },
  {
   "cell_type": "markdown",
   "id": "d186e2d4",
   "metadata": {},
   "source": [
    "### Задание 2\n",
    ">Вводится натуральное число x. Определить, кратно ли оно четырем и\n",
    "оканчивается ли на цифру 8 (одновременно). Вывести на экран полученное булево\n",
    "значение (True или False).\n",
    "Код:"
   ]
  },
  {
   "cell_type": "code",
   "execution_count": 3,
   "id": "f11316e4",
   "metadata": {},
   "outputs": [
    {
     "name": "stdout",
     "output_type": "stream",
     "text": [
      "Number: 3\n",
      "False\n"
     ]
    }
   ],
   "source": [
    "def check():\n",
    "    inp = int(input(\"Number: \").strip())\n",
    "    print(inp % 4 == 0 and inp % 10 == 8)\n",
    "\n",
    "if __name__ == \"__main__\":\n",
    "    check()"
   ]
  },
  {
   "cell_type": "markdown",
   "id": "7f895c17",
   "metadata": {},
   "source": [
    "## Лабораторная работа №2"
   ]
  },
  {
   "cell_type": "markdown",
   "id": "68ca72de",
   "metadata": {},
   "source": [
    "### Задание 1\n",
    "> Вводится строка. Найти все индексы начала фрагмента «ра» во введенной\n",
    "строке. Результат вывести на экран.\n",
    "Код:"
   ]
  },
  {
   "cell_type": "code",
   "execution_count": 4,
   "id": "e252e089",
   "metadata": {},
   "outputs": [
    {
     "name": "stdout",
     "output_type": "stream",
     "text": [
      "String: papapapa\n",
      "[0, 2, 4, 6]\n"
     ]
    }
   ],
   "source": [
    "def get_indexes():\n",
    "    inp = input(\"String: \").strip()\n",
    "    indexes = [index for index in range(len(inp)) if inp.startswith(\"pa\", index)]\n",
    "    print(indexes)\n",
    "\n",
    "if __name__ == \"__main__\":\n",
    "    get_indexes()"
   ]
  },
  {
   "cell_type": "markdown",
   "id": "a8cfb11b",
   "metadata": {},
   "source": [
    "### Задание 2\n",
    "> Вводится список целых чисел в одну строчку через пробел. Необходимо\n",
    "представить его в виде списка целых чисел, а затем, вычислить сумму этих чисел и\n",
    "результат вывести на экран, используя форматирование.\n",
    "Код:"
   ]
  },
  {
   "cell_type": "code",
   "execution_count": 5,
   "id": "207597b7",
   "metadata": {},
   "outputs": [
    {
     "name": "stdout",
     "output_type": "stream",
     "text": [
      "String: 1 2 3 4 5 6\n",
      "[1, 2, 3, 4, 5, 6]\n",
      "Sum = 21\n"
     ]
    }
   ],
   "source": [
    "def numbers():\n",
    "    inp = input(\"String: \")\n",
    "    t = 0\n",
    "    numbers = [int(x) for x in inp.split(' ')]\n",
    "    print(numbers)\n",
    "    for num in numbers:\n",
    "        t += num\n",
    "    print(\"Sum =\", t)\n",
    "\n",
    "if __name__ == \"__main__\":\n",
    "    numbers()"
   ]
  },
  {
   "cell_type": "markdown",
   "id": "794b3102",
   "metadata": {},
   "source": [
    "## Лабораторная работа №3"
   ]
  },
  {
   "cell_type": "markdown",
   "id": "6fb0313c",
   "metadata": {},
   "source": [
    "### Задание 1\n",
    "> Вводятся вещественные числа в строку через пробел. Необходимо на их\n",
    "основе сформировать список с помощью list comprehension (генератора списков) из\n",
    "модулей введенных чисел (в списке должны храниться именно числа, а не строки).\n",
    "Результат вывести на экран\n",
    "Код:"
   ]
  },
  {
   "cell_type": "code",
   "execution_count": 6,
   "id": "092505c2",
   "metadata": {},
   "outputs": [
    {
     "name": "stdout",
     "output_type": "stream",
     "text": [
      "String: 1.2 0.413 123.123\n",
      "[1.2, 0.413, 123.123]\n"
     ]
    }
   ],
   "source": [
    "def numbers():\n",
    "    inp = input(\"String: \").strip()\n",
    "    t = 0\n",
    "    numbers = [abs(float(x)) for x in inp.split(' ')]\n",
    "    print(numbers)\n",
    "\n",
    "if __name__ == \"__main__\":\n",
    "    numbers()"
   ]
  },
  {
   "cell_type": "markdown",
   "id": "dcb997cc",
   "metadata": {},
   "source": [
    "### Задание 2\n",
    "> Задается двумерный (вложенный) список, представляющий таблицу целых\n",
    "чисел. Необходимо с помощью list comprehension преобразовать его в одномерный\n",
    "так, чтобы значения элементов шли в обратном порядке. Результат преобразования\n",
    "отобразить на экране\n",
    "Код:"
   ]
  },
  {
   "cell_type": "code",
   "execution_count": 7,
   "id": "82bca9d0",
   "metadata": {},
   "outputs": [
    {
     "name": "stdout",
     "output_type": "stream",
     "text": [
      "[9, 8, 7, 6, 5, 4, 3, 2, 1]\n"
     ]
    }
   ],
   "source": [
    "def inner_list():\n",
    "    source = [[1, 2, 3], [4, 5, 6], [7, 8, 9]]\n",
    "    new = [x for sub in reversed(source) for x in reversed(sub)]\n",
    "    print(new)\n",
    "\n",
    "\n",
    "if __name__ == \"__main__\":\n",
    "    inner_list()"
   ]
  },
  {
   "cell_type": "markdown",
   "id": "e26442d9",
   "metadata": {},
   "source": [
    "## Лабораторная работа №4"
   ]
  },
  {
   "cell_type": "markdown",
   "id": "8dd20498",
   "metadata": {},
   "source": [
    "### Задание 1\n",
    "> Вводится строка из русских букв. Необходимо ее закодировать, а затем,\n",
    "раскодировать азбукой Морзе. После каждой закодированной буквы должен стоять\n",
    "пробел (символ окончания кода буквы). После последнего кода пробела быть не\n",
    "должно (в конце строки). Словарь с кодами азбуки Морзе приведен после этой\n",
    "таблицы. Закодированную строку вывести на экран.\n",
    "Код:"
   ]
  },
  {
   "cell_type": "code",
   "execution_count": 8,
   "id": "b1471517",
   "metadata": {},
   "outputs": [
    {
     "name": "stdout",
     "output_type": "stream",
     "text": [
      "String: привет\n",
      ".--. .-. .. .-- . -\n",
      "\n",
      "привет\n",
      "\n"
     ]
    }
   ],
   "source": [
    "morze = {'а': '.-', 'б': '-...', 'в': '.--', 'г': '--.', 'д': '-..', 'е': '.', 'ё': '.', 'ж': '...-', 'з': '--..', 'и': '..', 'й':\n",
    "            '.---', 'к': '-.-', 'л': '.-..', 'м': '--', 'н': '-.', 'о': '---', 'п': '.--.', 'р': '.-.', 'с': '...', 'т': '-', 'у': '..-', 'ф': '..-.', \n",
    "            'х': '....', 'ц': '-.-.', 'ч': '---.', 'ш': '----', 'щ': '--.-', 'ъ': '--.--', 'ы': '-.--', 'ь': '-..-', 'э': '..-..', 'ю': '..--', 'я': '.-.-', ' ': '-···-'}\n",
    "\n",
    "def encode():\n",
    "    inp = input(\"String: \").strip()\n",
    "    first = True\n",
    "    encoded = [morze.get(c) for c in inp]\n",
    "\n",
    "    for c in encoded:\n",
    "        if not first:\n",
    "            print(\" \", end='')\n",
    "        print(*c, sep='', end='')\n",
    "        first = False\n",
    "    decode(encoded)\n",
    "\n",
    "def decode(inp):\n",
    "    decoded = [get_key(c) for c in inp]\n",
    "    first = True\n",
    "    \n",
    "    for c in decoded:\n",
    "        if first:\n",
    "            print('\\n')\n",
    "\n",
    "        print(c, sep='', end='')\n",
    "        first = False\n",
    "    print('\\n')\n",
    "\n",
    "def get_key(value):\n",
    "    for k, v in morze.items():\n",
    "        if v == value:\n",
    "            return k\n",
    "\n",
    "if __name__ == \"__main__\":\n",
    "    encode()"
   ]
  },
  {
   "cell_type": "markdown",
   "id": "53986089",
   "metadata": {},
   "source": [
    "### Задание 2\n",
    "> Дан текст из строчных латинских букв, за которым следует точка.\n",
    "Напечатать: первые вхождения букв в текст, сохраняя их взаимный исходный\n",
    "порядок; все буквы, входящие в текст не менее двух раз; все буквы, входящие в\n",
    "текст по одному разу.\n",
    "Код:"
   ]
  },
  {
   "cell_type": "code",
   "execution_count": 9,
   "id": "bbd2e976",
   "metadata": {},
   "outputs": [
    {
     "name": "stdout",
     "output_type": "stream",
     "text": [
      "Text: test text.\n",
      "t e s x\n",
      "t\n",
      "s x\n"
     ]
    }
   ],
   "source": [
    "def prepare(str):\n",
    "    symbols = [',', ' ']\n",
    "    for s in symbols:\n",
    "        str = str.replace(s, \"\")\n",
    "    analyze(str.lower())\n",
    "    \n",
    "def analyze(text):\n",
    "    # get all letters entries\n",
    "    letters_entries = []\n",
    "    for i in range(len(text)):\n",
    "        if text[i] == '.':\n",
    "            break\n",
    "        if text[i] not in letters_entries:\n",
    "            letters_entries.append(text[i])\n",
    "    print(*letters_entries)\n",
    "\n",
    "    # get all letters with more than two entries\n",
    "    repeating_letters = []\n",
    "    for i in range(len(text)):\n",
    "        if text[i] == '.':\n",
    "            break\n",
    "        letter = text[i]\n",
    "        count = 0\n",
    "        for j in range(len(text)):\n",
    "            if text[j] == letter:\n",
    "                count += 1\n",
    "        if count > 2 and letter not in repeating_letters:\n",
    "            repeating_letters.append(letter)\n",
    "    print(*repeating_letters)\n",
    "\n",
    "    # get unique letters\n",
    "    unique_letters = []\n",
    "    for i in range(len(text)):\n",
    "        if text[i] == '.':\n",
    "            break\n",
    "        letter = text[i]\n",
    "        count = 0\n",
    "        for j in range(len(text)):\n",
    "            if text[j] == letter:\n",
    "                count += 1\n",
    "        if count < 2 and letter not in unique_letters:\n",
    "            unique_letters.append(letter)\n",
    "    print(*unique_letters)\n",
    "\n",
    "if __name__ == \"__main__\":\n",
    "    prepare(input(\"Text: \"))"
   ]
  },
  {
   "cell_type": "markdown",
   "id": "607616b3",
   "metadata": {},
   "source": [
    "## Лабораторная работа №5"
   ]
  },
  {
   "cell_type": "markdown",
   "id": "15b26b7f",
   "metadata": {},
   "source": [
    "### Задание 1\n",
    "> Напишите код, обеспечивающий построение линейного графика функции."
   ]
  },
  {
   "cell_type": "code",
   "execution_count": 1,
   "id": "77baca03",
   "metadata": {},
   "outputs": [
    {
     "data": {
      "image/png": "[encoded data removed]",
      "text/plain": [
       "<Figure size 432x288 with 1 Axes>"
      ]
     },
     "metadata": {
      "needs_background": "light"
     },
     "output_type": "display_data"
    }
   ],
   "source": [
    "def paint():\n",
    "    xpts = np.array([0, 160])\n",
    "    ypts = np.array([0, 50])\n",
    "\n",
    "    mpl.plot(xpts, ypts)\n",
    "    mpl.show()\n",
    "\n",
    "if __name__ == \"__main__\":\n",
    "    import numpy as np\n",
    "    import matplotlib.pyplot as mpl\n",
    "    paint()"
   ]
  }
 ],
 "metadata": {
  "kernelspec": {
   "display_name": "Python 3",
   "language": "python",
   "name": "python3"
  },
  "language_info": {
   "codemirror_mode": {
    "name": "ipython",
    "version": 3
   },
   "file_extension": ".py",
   "mimetype": "text/x-python",
   "name": "python",
   "nbconvert_exporter": "python",
   "pygments_lexer": "ipython3",
   "version": "3.8.8"
  }
 },
 "nbformat": 4,
 "nbformat_minor": 5
}
